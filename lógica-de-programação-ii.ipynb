{
  "nbformat": 4,
  "nbformat_minor": 0,
  "metadata": {
    "colab": {
      "provenance": []
    },
    "kernelspec": {
      "name": "python3",
      "display_name": "Python 3"
    },
    "language_info": {
      "name": "python"
    }
  },
  "cells": [
    {
      "cell_type": "markdown",
      "source": [
        "######Listas, tuplas e dicionários"
      ],
      "metadata": {
        "id": "05n5owYEPKfH"
      }
    },
    {
      "cell_type": "code",
      "execution_count": null,
      "metadata": {
        "id": "ACjsbOfWPCiR"
      },
      "outputs": [],
      "source": [
        "lista = [] # assim é mais rápido, aparentemente\n",
        "\n",
        "# ou\n",
        "\n",
        "lista = list()"
      ]
    },
    {
      "cell_type": "code",
      "source": [
        "# últimos três elementos da lista\n",
        "\n",
        "lista[-3:] # slicing"
      ],
      "metadata": {
        "id": "r4UbOedbPwD9"
      },
      "execution_count": null,
      "outputs": []
    },
    {
      "cell_type": "code",
      "source": [
        "copia_lista = lista # errado, pois referencia a mesma lista\n",
        "\n",
        "# forma correta:\n",
        "\n",
        "copia_frutas = frutas[:]"
      ],
      "metadata": {
        "id": "AtWRh2pDQI3I"
      },
      "execution_count": null,
      "outputs": []
    },
    {
      "cell_type": "code",
      "source": [
        "import random\n",
        "\n",
        "lista = [random.randint(1, 22000) for _ in range(100000000)]"
      ],
      "metadata": {
        "id": "AdwVz4uDR7yj"
      },
      "execution_count": null,
      "outputs": []
    },
    {
      "cell_type": "code",
      "source": [
        "# ímpares\n",
        "\n",
        "impares = [numero for numero in lista if numero % 2 != 0]"
      ],
      "metadata": {
        "id": "-tBuGYNiTFqk"
      },
      "execution_count": null,
      "outputs": []
    },
    {
      "cell_type": "code",
      "source": [
        "# inverter a lista\n",
        "\n",
        "lista_inversa = lista[-1::-1] # do último até o final, indo de trás para frente"
      ],
      "metadata": {
        "id": "ajokgydNXxNC"
      },
      "execution_count": null,
      "outputs": []
    },
    {
      "cell_type": "code",
      "source": [
        "# concatenação\n",
        "\n",
        "lista = lista1 + lista2"
      ],
      "metadata": {
        "id": "RSNftFjOai7d"
      },
      "execution_count": null,
      "outputs": []
    },
    {
      "cell_type": "code",
      "source": [
        "tupla = ()"
      ],
      "metadata": {
        "id": "feo_6ofBfSpO"
      },
      "execution_count": null,
      "outputs": []
    },
    {
      "cell_type": "code",
      "source": [
        "# desempacotamento\n",
        "\n",
        "primeiro, *resto = tupla"
      ],
      "metadata": {
        "id": "dm6gibvLfVOz"
      },
      "execution_count": null,
      "outputs": []
    },
    {
      "cell_type": "code",
      "source": [
        "# cada elemento (x) será uma tupla com o índice e o valor\n",
        "\n",
        "for x in enumerate(lista):\n",
        "    print(x)"
      ],
      "metadata": {
        "id": "xutxzRrwg8Wq"
      },
      "execution_count": null,
      "outputs": []
    },
    {
      "cell_type": "code",
      "source": [
        "# exemplo de aplicação com uma lista de strings\n",
        "\n",
        "for indice, valor in enumerate(lista):\n",
        "    if indice % 2 == 0:\n",
        "        print(valor.upper())\n",
        "    else:\n",
        "        print(valor.lower())"
      ],
      "metadata": {
        "id": "wEDVvBoJhoqv"
      },
      "execution_count": null,
      "outputs": []
    },
    {
      "cell_type": "code",
      "source": [
        "# percorrer ambas as listas com o zip\n",
        "\n",
        "for x in zip(alunos, notas):\n",
        "    print(x) # também monta tuplas"
      ],
      "metadata": {
        "id": "irHpY3uXh0ac"
      },
      "execution_count": null,
      "outputs": []
    },
    {
      "cell_type": "code",
      "source": [
        "# criando um dicionário:\n",
        "\n",
        "notas = dict(Ana = 7, Brenda = 10, Carlos = 8)\n",
        "\n",
        "aluno = {'nome':'Mario', 'notas':[7, 9, 5, 6], 'presencas':0.8}\n",
        "\n",
        "# em caso de chaves e valores em listas/tuplas separadas\n",
        "nomes = ['Ana', 'Brenda', 'Carlos']\n",
        "notas = [7, 10, 8]\n",
        "dicionario_notas = dict(zip(nomes, notas)) # utilizar o zip"
      ],
      "metadata": {
        "id": "l9BmiT0uVGFe"
      },
      "execution_count": null,
      "outputs": []
    },
    {
      "cell_type": "code",
      "source": [
        "# percorrendo um dicionário\n",
        "\n",
        "for chave in aluno: # percorre só a chave\n",
        "    print(chave, '--->', aluno[chave])"
      ],
      "metadata": {
        "id": "D44PdnKfWv5O"
      },
      "execution_count": null,
      "outputs": []
    },
    {
      "cell_type": "code",
      "source": [
        "# métodos de dicionários\n",
        "\n",
        "# get: retorna o valor da chave ou None, caso não tenha\n",
        "nota_ana = dicionario_notas.get('Ana')\n",
        "nota_daniel = dicionario_notas.get('Daniel', 0) # o segundo parâmetro é caso você queira retornar algo diferente de 'None'\n",
        "\n",
        "# setdefault:\n",
        "cursos = dicionario.setdefault('cursos', ['Python'])\n",
        "\n",
        "# update: para unir dicionários\n",
        "escola = {'escola':\"Ada\", 'unidade':'Faria Lima'}\n",
        "mais_escola = {'trilhas':['Data Science', 'Web Full Stack'], 'formato':'online'}\n",
        "\n",
        "escola.update(mais_escola)\n",
        "\n",
        "# pop: remover elementos\n",
        "escola.pop('unidade')\n",
        "\n",
        "# items: retorna uma coleção de tuplas, onde cada tupla contém um par chave-valor do dicionário:\n",
        "escola.items() # saída: dict_items([('nome', 'Mario'), ('notas', [7, 9, 5, 6]), ('presencas', 0.8)])\n"
      ],
      "metadata": {
        "colab": {
          "base_uri": "https://localhost:8080/"
        },
        "id": "BRAsSdZwYSiS",
        "outputId": "30f4149d-d9a5-476c-d4c2-72d82f6d7bf8"
      },
      "execution_count": null,
      "outputs": [
        {
          "output_type": "stream",
          "name": "stdout",
          "text": [
            "0\n"
          ]
        }
      ]
    },
    {
      "cell_type": "code",
      "source": [
        "# assim como as listas, não dá para simplesmente atribuir uma variável à outra:\n",
        "dicionario_notas_copia = dicionario_notas.copy()"
      ],
      "metadata": {
        "id": "_4znkhHMVH4o"
      },
      "execution_count": null,
      "outputs": []
    },
    {
      "cell_type": "code",
      "source": [
        "# separando chaves e valores\n",
        "\n",
        "aluno = {'nome':'Mario', 'notas':[7, 9, 5, 6], 'presencas':0.8}\n",
        "\n",
        "chaves = list(aluno.keys())\n",
        "valores = list(aluno.values())"
      ],
      "metadata": {
        "id": "sMyi26yubD1r"
      },
      "execution_count": null,
      "outputs": []
    },
    {
      "cell_type": "code",
      "source": [
        "# dá para fazer isso:\n",
        "\n",
        "for chave, valor in zip(aluno.keys(), aluno.values()):\n",
        "    # alguma operação aqui"
      ],
      "metadata": {
        "id": "_nZ0xMmZbNxK"
      },
      "execution_count": null,
      "outputs": []
    },
    {
      "cell_type": "markdown",
      "source": [
        "######Compreensão de listas e expressões geradoras"
      ],
      "metadata": {
        "id": "vBTHPp6Ps6q8"
      }
    },
    {
      "cell_type": "markdown",
      "source": [
        "Compreensão de listas (ou list comprehension) é uma maneira concisa e eficiente de criar listas em Python."
      ],
      "metadata": {
        "id": "CsNcQdhwis4G"
      }
    },
    {
      "cell_type": "code",
      "source": [
        "# forma mais pensada\n",
        "  quadrados = []\n",
        "\n",
        "for x in range(1, 11):\n",
        "    quadrados.append(x**2)\n",
        "\n",
        "print(quadrados)\n",
        "print(x) # o 'x' segue existindo, mesmo após o encerramento do loop"
      ],
      "metadata": {
        "id": "kzuBE9aPcGZF"
      },
      "execution_count": null,
      "outputs": []
    },
    {
      "cell_type": "code",
      "source": [
        "# melhor forma: utilizando compreensão de listas\n",
        "\n",
        "quadrados_compreensao = [num**2 for num in range(1, 11)]\n",
        "\n",
        "# utilizando listas/tuplas:\n",
        "\n",
        "numeros = [1, 9, 4, 7, 6, 2]\n",
        "metades = [n/2 for n in numeros]\n",
        "\n",
        "# exemplos com condições\n",
        "\n",
        "metades_pares = [n/2 for n in numeros if n % 2 == 0]\n",
        "\n",
        "metades_tipo = [n//2 if n % 2 == 0 else n/2 for n in numeros] # se for par: divide por 2 e pega o resultado inteiro; se for ímpar: divide por 2\n",
        "nomes = ['Ana', 'Bruno', 'Carla', 'Daniel', 'Emília']\n",
        "sobrenomes = ['Silva', 'Oliveira']\n",
        "\n",
        "combinacoes = [nome + ' ' + sobrenome for nome in nomes for sobrenome in sobrenomes]\n",
        "\n",
        "print(combinacoes) # lista de strings"
      ],
      "metadata": {
        "colab": {
          "base_uri": "https://localhost:8080/"
        },
        "id": "CadJLGLGcQ_3",
        "outputId": "7ce38e29-bee3-4b57-9e02-d84218cdab0f"
      },
      "execution_count": null,
      "outputs": [
        {
          "output_type": "stream",
          "name": "stdout",
          "text": [
            "['Ana Silva', 'Ana Oliveira', 'Bruno Silva', 'Bruno Oliveira', 'Carla Silva', 'Carla Oliveira', 'Daniel Silva', 'Daniel Oliveira', 'Emília Silva', 'Emília Oliveira']\n"
          ]
        }
      ]
    },
    {
      "cell_type": "code",
      "source": [
        "times = ['Atlético Python', 'JavaScript United', 'C Seniors', 'Javeiros do Norte']\n",
        "entradas = ['V', 'E', 'D']\n",
        "\n",
        "tabela = [[int(input(f'Digite a quantidade de {tipo} do time {time}: ')) for tipo in entradas] for time in times]\n",
        "\n",
        "print(tabela)"
      ],
      "metadata": {
        "id": "U8LDHL-KgOTq"
      },
      "execution_count": null,
      "outputs": []
    },
    {
      "cell_type": "code",
      "source": [
        "# compreensão de dicionários\n",
        "alunos = ['Ana', 'Bruno', 'Carla', 'Daniel', 'Emília']\n",
        "medias = [9.0, 8.0, 8.0, 6.5, 7.0]\n",
        "\n",
        "cadastro = {aluno:media for aluno, media in zip(alunos, medias)}\n",
        "print(cadastro) # dicionário"
      ],
      "metadata": {
        "colab": {
          "base_uri": "https://localhost:8080/"
        },
        "id": "DVP6GxO_hGgI",
        "outputId": "1508c9d4-f277-4824-c760-8049229e6d96"
      },
      "execution_count": null,
      "outputs": [
        {
          "output_type": "stream",
          "name": "stdout",
          "text": [
            "{'Ana': 9.0, 'Bruno': 8.0, 'Carla': 8.0, 'Daniel': 6.5, 'Emília': 7.0}\n"
          ]
        }
      ]
    },
    {
      "cell_type": "markdown",
      "source": [
        "Expressões geradoras em Python são semelhantes às compreensões de listas, mas em vez de criar uma lista inteira na memória, elas criam um iterador, que gera os elementos conforme necessário, usando menos memória."
      ],
      "metadata": {
        "id": "VKY4pIZ8i0dm"
      }
    },
    {
      "cell_type": "code",
      "source": [
        "# expressões geradoras: tem uma estrutura parecida com compreensão de listas, mas com parênteses\n",
        "gerador_quadrados = (x**2 for x in range(10))"
      ],
      "metadata": {
        "id": "PrgKdUjbhkVw"
      },
      "execution_count": null,
      "outputs": []
    },
    {
      "cell_type": "code",
      "source": [
        "# Iteráveis X iteradores\n",
        "# Um iterável é um objeto em Python que podemos percorrer utilizando um loop. Geralmente pensamos em iteráveis como algum tipo de coleção.\n",
        "# Listas, tuplas, dicionários e strings são todos iteráveis.\n",
        "\n",
        "# Porém, o que o loop realmente utiliza não é o iterável, mas o iterador.\n",
        "# Quando tentamos percorrer um iterável, é criado um iterador a partir dele utilizando a função iter.\n",
        "# Em cada passo da iteração (do loop), a função next é chamada, e ela irá retornar o próximo elemento.\n",
        "# Quando os elementos são esgotados, ela irá lançar a exceção (uma espécie de erro sinalizado, que estudaremos em um capítulo futuro) StopIteration.\n",
        "\n",
        "# Quando utilizamos uma expressão geradora, cada elemento é gerado apenas quando solicitado, e os elementos não ficam salvos."
      ],
      "metadata": {
        "id": "-pnkiaiSlq-Q"
      },
      "execution_count": null,
      "outputs": []
    },
    {
      "cell_type": "code",
      "source": [
        "# Expressões geradoras são uma forma compacta para criar iteradores.\n",
        "\n",
        "# Funções geradoras lembram bastante funções convencionais, mas em vez de return elas utilizarão a palavra yield."
      ],
      "metadata": {
        "id": "AqOovNYMqw7B"
      },
      "execution_count": null,
      "outputs": []
    },
    {
      "cell_type": "markdown",
      "source": [
        "######Parâmetros e retorno de funções"
      ],
      "metadata": {
        "id": "Ob9WvTyA3jhR"
      }
    },
    {
      "cell_type": "code",
      "source": [
        "# o retorno de uma função com mais de um variável de retorno é uma tupla"
      ],
      "metadata": {
        "id": "JJqcmcp4mslm"
      },
      "execution_count": null,
      "outputs": []
    },
    {
      "cell_type": "code",
      "source": [
        "# caso lower não seja passado, ele será, por padrão, True\n",
        "\n",
        "def padroniza_string(texto, lower=True):\n",
        "    if lower:\n",
        "        return texto.lower()\n",
        "    else:\n",
        "        return texto.upper()"
      ],
      "metadata": {
        "id": "PsfprVTRBvuy"
      },
      "execution_count": null,
      "outputs": []
    },
    {
      "cell_type": "code",
      "source": [
        "# o '*' recebe os vários parÂmetros e transforma em tupla\n",
        "def somatorio(*numeros):\n",
        "    print (numeros)\n",
        "    print(type(numeros))\n",
        "    soma = 0\n",
        "    for n in numeros:\n",
        "        soma = soma + n\n",
        "    return soma\n",
        "\n",
        "s1 = somatorio(5, 3, 1)\n",
        "s2 = somatorio(2, 4, 6, 8, 10)\n",
        "s3 = somatorio(1, 2, 3, 4, 5, 6, 7, 8, 9, 10)\n",
        "print(s1, s2, s3)\n",
        "\n",
        "# para passar uma coleção e ainda preservar esse algoritmo, basta colocar o '*' na chamada da função tbm\n",
        "\n",
        "s = somatorio(*lista)"
      ],
      "metadata": {
        "colab": {
          "base_uri": "https://localhost:8080/"
        },
        "id": "85MIaOLFFyLR",
        "outputId": "c768a5bc-c012-481b-82d9-42a465db97a4"
      },
      "execution_count": null,
      "outputs": [
        {
          "output_type": "stream",
          "name": "stdout",
          "text": [
            "(5, 3, 1)\n",
            "<class 'tuple'>\n",
            "(2, 4, 6, 8, 10)\n",
            "<class 'tuple'>\n",
            "(1, 2, 3, 4, 5, 6, 7, 8, 9, 10)\n",
            "<class 'tuple'>\n",
            "9 30 55\n"
          ]
        }
      ]
    },
    {
      "cell_type": "code",
      "source": [
        "# kwargs: '**' que indica que os parâmetros passados serão agrupados em um dicionário: o nome do parâmetro será uma chave, e o valor será o respectivo valor.\n",
        "\n",
        "def cadastro(**usuario):\n",
        "\n",
        "    if not ('nome') in usuario and not ('cpf') in usuario:\n",
        "        print('Nenhum dado encontrado!')\n",
        "    else:\n",
        "        if 'nome' in usuario:\n",
        "            print(usuario['nome'])\n",
        "        if 'cpf' in usuario:\n",
        "            print(usuario['cpf'])\n",
        "        print('-----')\n",
        "\n",
        "cadastro(nome = 'João', cpf = 123456789) # tem ambos\n",
        "cadastro(nome = 'José') # tem apenas nome\n",
        "cadastro(cpf = 987654321) # tem apenas cpf\n",
        "cadastro(rg = 192837465) # não tem nome nem cpf\n",
        "\n",
        "# caso os parâmetros já estejam declarados em um dicionário, basta colocar o '**' na chamada da função\n",
        "maria = {'nome':'Maria', 'cpf':2468135790}\n",
        "cadastro(**maria)\n",
        "\n",
        "# Caso sua função vá combinar múltiplos tipos de parâmetro, sempre siga a seguinte ordem:\n",
        "# argumentos posicionais (os comuns), argumentos com asterisco (tupla),\n",
        "# argumentos com valor padrão e argumentos com dois asteriscos (dicionário). Por exemplo, na função abaixo:\n",
        "\n",
        "def funcao(a, b, *c, d=0, e=1, **f):\n",
        "  print(\"operação\")"
      ],
      "metadata": {
        "id": "XJRtqK8TMZ65"
      },
      "execution_count": null,
      "outputs": []
    },
    {
      "cell_type": "markdown",
      "source": [
        "######Conceitos de programação funcional:"
      ],
      "metadata": {
        "id": "w6blqsg_tqyU"
      }
    },
    {
      "cell_type": "markdown",
      "source": [
        "Um paradigma é uma forma diferente de pensar o seu programa.\n",
        "\n",
        "\n",
        "\n",
        "*   Paradigma imperativo (sequencial)\n",
        "*   Programação estruturada (condicionais,\n",
        "malhas de repetição)\n",
        "*   Programação procedural (funções)\n",
        "*   Programação orientada a objetos (representação do mundo real)\n",
        "\n",
        "Programação funcional: é o processo de construir software através de composição de funções puras, evitando compartilhamento de estados, dados mutáveis e efeitos colaterais. É declarativa ao invés de Imperativa."
      ],
      "metadata": {
        "id": "d_4vOP0NtwgF"
      }
    },
    {
      "cell_type": "code",
      "source": [
        "# Para evitar o não-determinismo, um conceito importante é o de funções puras. Uma função pura não possui efeitos colaterais, ou seja,\n",
        "# seu funcionamento não irá alterar conteúdo na memória (ex: variáveis) ou dispositivos de entrada e saída.\n",
        "# Em resumo: Uma função é chamada pura quando invocada mais de uma vez produz exatamente o mesmo resultado. Isso traz algumas vantagens:\n",
        "\n",
        "# 01. Se nenhum parâmetro da função causa efeitos colaterais, então a função sempre apresentará o mesmo resultado ao receber os mesmos argumentos.\n",
        "# 02. Se não houver dependência entre os dados de duas funções puras, elas podem ser executadas em paralelo sem causar problemas de concorrência.\n",
        "# 03. Se o retorno de uma função sem efeitos colaterais não está sendo usado, ela pode ser removida sem afetar o restante do programa.\n",
        "\n",
        "def funcao_pura(numeros: list):\n",
        "    soma = 0\n",
        "    for n in numeros:\n",
        "        soma += n\n",
        "    return soma\n",
        "\n",
        "def funcao_impura(numeros: list):\n",
        "    soma = 0\n",
        "    for idx in range(len(numeros)):\n",
        "\n",
        "        if type(numeros[idx]) != int:\n",
        "            numeros[idx] = int(numeros[idx])\n",
        "\n",
        "        soma += numeros[idx]\n",
        "        idx += 1\n",
        "    return soma\n",
        "\n",
        "entrada = [1, 2.5, 3, 4.5]\n",
        "\n",
        "funcao_pura(entrada)\n",
        "print(entrada)\n",
        "funcao_impura(entrada)\n",
        "print(entrada)"
      ],
      "metadata": {
        "colab": {
          "base_uri": "https://localhost:8080/"
        },
        "id": "NtYZ0M_QwFFE",
        "outputId": "8b40abcb-bab6-46d3-97de-b4129c77c993"
      },
      "execution_count": null,
      "outputs": [
        {
          "output_type": "stream",
          "name": "stdout",
          "text": [
            "[1, 2.5, 3, 4.5]\n",
            "[1, 2, 3, 4]\n"
          ]
        }
      ]
    },
    {
      "cell_type": "code",
      "source": [
        "# Funções de primeira classe e funções de alta ordem:\n",
        "\n",
        "# 01. ser atribuídas para variáveis ou guardadas em estruturas de dados\n",
        "# 02. ser passadas como parâmetros para outras funções\n",
        "# 03. ser retornadas por outras funções\n",
        "\n",
        "# Essas características permitem a criação de funções de alta ordem, que são funções que recebem pelo menos uma função como parâmetro e/ou retornam uma função.\n",
        "\n",
        "def funcao():\n",
        "    print('olá mundo')\n",
        "\n",
        "x = funcao\n",
        "print('Tipo da variável x:', type(x))\n",
        "x()\n",
        "\n",
        "# outro exemplo de varíavel que armazena uma função:\n",
        "\n",
        "def soma(a, b):\n",
        "    return a + b\n",
        "\n",
        "def multiplicacao(a, b):\n",
        "    return a * b\n",
        "\n",
        "def cumulativo(inicial, quantidade, operacao):\n",
        "    contador = 1\n",
        "    acumulado = inicial\n",
        "    while contador <= quantidade:\n",
        "        acumulado = operacao(acumulado, contador)\n",
        "        contador += 1\n",
        "    return acumulado\n",
        "\n",
        "somatorio = cumulativo(0, 5, soma)\n",
        "\n",
        "\n",
        "# a função também pode retonar funções:\n",
        "def soma(a, b):\n",
        "    return a + b\n",
        "\n",
        "def subtracao(a, b):\n",
        "    return a - b\n",
        "\n",
        "def multiplicacao(a, b):\n",
        "    return a * b\n",
        "\n",
        "def divisao(a, b):\n",
        "    return a / b\n",
        "\n",
        "def operador_para_funcao(operador):\n",
        "    if operador == '+':\n",
        "        return soma\n",
        "    elif operador == '-':\n",
        "        return subtracao\n",
        "    elif operador == '*':\n",
        "        return multiplicacao\n",
        "    else:\n",
        "        return divisao"
      ],
      "metadata": {
        "id": "V2RapJr0tOT4"
      },
      "execution_count": null,
      "outputs": []
    },
    {
      "cell_type": "code",
      "source": [
        "# Clausura (closure): Uma possibilidade criada por todas essas estratégias é a de uma closure, na qual uma função\n",
        "# pode ser usada para criar outra função junto de um ambiente.\n",
        "\n",
        "def cria_somas(x):\n",
        "    def soma(y):\n",
        "        return x + y\n",
        "    return soma\n",
        "\n",
        "incremento = cria_somas(1)\n",
        "decremento = cria_somas(-1)\n",
        "\n",
        "print(incremento(5)) # saída: 6\n",
        "print(incremento(10)) # saída: 11\n",
        "print(incremento(15)) # saída: 16\n"
      ],
      "metadata": {
        "id": "oo9IepOh0KoT"
      },
      "execution_count": null,
      "outputs": []
    },
    {
      "cell_type": "code",
      "source": [
        "# Funções anônimas: tamb´-em chamadas de funções lambda.\n",
        "# Elas são funções que não necessariamente precisam ser declaradas - no caso do Python, utilizando a palavra def - e atribuídas para um nome.\n",
        "# A sintaxe para criar uma função lambda em Python é:\n",
        "\n",
        "# lambda parametro1, parametro2, ... : expressao\n",
        "\n",
        "# exemplo 1:\n",
        "def cumulativo(inicial, quantidade, operacao):\n",
        "    contador = 1\n",
        "    acumulado = inicial\n",
        "    while contador <= quantidade:\n",
        "        acumulado = operacao(acumulado, contador)\n",
        "        contador += 1\n",
        "    return acumulado\n",
        "\n",
        "somatorio = cumulativo(0, 5, lambda x, y: x + y)\n",
        "\n",
        "# exemplo 2:\n",
        "def cria_somas(x):\n",
        "    return lambda y: x + y\n",
        "\n",
        "incremento = cria_somas(1)\n",
        "decremento = cria_somas(-1)\n",
        "\n",
        "# exemplo 3:\n",
        "numeros = [1, 2, 3, 4]\n",
        "quadrados = map(lambda x: x ** 2, numeros) # o 'map' é usado para aplicar uma função a cada elemento de um iterável\n",
        "print(list(quadrados)) # a razão para usar o list é porque o 'map' retorna o iterador (objeto que gera valores um por um)"
      ],
      "metadata": {
        "id": "wjJkiRrI1SwO"
      },
      "execution_count": null,
      "outputs": []
    },
    {
      "cell_type": "code",
      "source": [
        "# Outro ponto bastante explorado pela programação funcional é tentar evitar o uso de estruturas mutáveis.\n",
        "# Isso ocorre para evitar efeitos colaterais, como problemas de concorrência na execução paralela de diferentes trechos de\n",
        "# código que poderiam afetar uma mesma estrutura."
      ],
      "metadata": {
        "id": "gvVJlAqp3U8_"
      },
      "execution_count": null,
      "outputs": []
    },
    {
      "cell_type": "markdown",
      "source": [
        "Recursão:\n",
        "Laços de repetição tradicionais, como o for, apresentam pelo menos dois possíveis problemas.\n",
        "\n",
        "O primeiro deles é a necessidade de mutabilidade e variáveis de controle. Frequentemente, controlamos nossas repetições incrementando algum tipo de variável e testando seu valor.\n",
        "\n",
        "O segundo é a própria legibilidade do loop: parte do código gerado é para controlar as repetições, e pode se distanciar um pouco da definição do problema em si."
      ],
      "metadata": {
        "id": "nNA3xe1d6QlK"
      }
    },
    {
      "cell_type": "code",
      "source": [
        "def fib_iterativo(n):\n",
        "    n1 = 0\n",
        "    n2 = 1\n",
        "    contador = 0\n",
        "    while contador < n:\n",
        "        n1, n2 = n2, n1+n2\n",
        "        contador+=1\n",
        "    return n2\n",
        "\n",
        "def fib_recursivo(n):\n",
        "    if n == 0 or n == 1:\n",
        "        return 1\n",
        "    else:\n",
        "        return fib_recursivo(n-1) + fib_recursivo(n-2)\n",
        "\n",
        "# Uma desvantagem da recursão é a possibilidade de muitos cálculos repetidos serem realizados.\n",
        "# Para calcular F(5), teremos F(4) + F(3). Mas no F(4), o F(3) irá aparecer novamente.\n",
        "\n",
        "# Algumas linguagens oferecem um recurso chamado de tail recursion, ou recursão de cauda.\n",
        "# Nelas, o resultado de chamadas recursivas recentes é temporariamente armazenado e pode ser reutilizado em outras chamadas.\n",
        "# O Python NÃO possui recursão de cauda nativamente, mas é possível manipularmos os parâmetros de nossas funções para obter esse tipo de recursão na prática.\n",
        "\n",
        "def fib_cauda(n, n1 = 1, n2 = 1):\n",
        "    if n == 0:\n",
        "        return n1\n",
        "    if n == 1:\n",
        "        return n2\n",
        "    return fib_cauda(n - 1, n2, n1 + n2)\n",
        "\n",
        "# Em cada passo recursivo, atualizamos n2 com a próxima soma, o valor anterior de n2 passa para n1, e o nosso n decrementa rumo ao caso base.\n",
        "# Ao contrário da chamada recursiva anterior, observe que não estamos mais \"ramificando\" nossas chamadas recursivas,\n",
        "# e as chamadas estão sendo resolvidas de maneira mais linear, com cada passo aproveitando os dois resultados anteriores."
      ],
      "metadata": {
        "id": "6e9fA4ya6deH"
      },
      "execution_count": null,
      "outputs": []
    },
    {
      "cell_type": "markdown",
      "source": [
        "Funções de alta ordem em coleções (map, filter e reduce)"
      ],
      "metadata": {
        "id": "dg9Dt5S774Z3"
      }
    },
    {
      "cell_type": "code",
      "source": [
        "# A função map recebe uma função e uma coleção.\n",
        "# Ela irá aplicar a função recebida sobre cada um dos elementos da coleção, retornando uma nova coleção com os retornos de cada uma dessas chamadas.\n",
        "\n",
        "numeros1 = [1, 2, 3]\n",
        "numeros2 = [4, 5, 6]\n",
        "\n",
        "resultado = map(lambda x, y: x + y, numeros1, numeros2)\n",
        "print(list(resultado))  # Saída: [5, 7, 9]"
      ],
      "metadata": {
        "id": "gyaSpTzt76mv"
      },
      "execution_count": null,
      "outputs": []
    },
    {
      "cell_type": "code",
      "source": [
        "# A função filter também recebe uma função que deve retornar um booleano e uma coleção.\n",
        "# Ela irá conter apenas os elementos da coleção que provocaram valor True na função passada.\n",
        "\n",
        "numeros = [5, -3, 1, 4, 7, -8, -2]\n",
        "negativos = list(filter(lambda x: x < 0, numeros))\n",
        "print(negativos)"
      ],
      "metadata": {
        "id": "OfNNKsFd8TBf"
      },
      "execution_count": null,
      "outputs": []
    },
    {
      "cell_type": "code",
      "source": [
        "# A função reduce, além da função e da coleção, receberá também um valor inicial.\n",
        "# Ele irá aplicar a função entre o valor inicial e o primeiro valor da coleção.\n",
        "# Em seguida, entre o resultado dessa operação e o segundo valor da coleção.\n",
        "#Depois, entre o resultado desta operação e o terceiro valor da coleção, e assim sucessivamente.\n",
        "# Ou seja, ele acumula uma operação ao longo de uma coleção.\n",
        "\n",
        "# Ela não é uma função nativa!\n",
        "\n",
        "from functools import reduce\n",
        "\n",
        "lista = [1, 3, 5, 7, 9]\n",
        "\n",
        "somatorio = reduce(lambda x, y: x + y, lista, 0) # função: o lambda criado; coleção: lista; valor inicial: 0\n",
        "\n",
        "print(somatorio)\n",
        "\n",
        "# colocando valor inicial 5\n",
        "\n",
        "somatorio_inicial = reduce(lambda x, y: x + y, lista, 5)\n",
        "print(somatorio_inicial)"
      ],
      "metadata": {
        "colab": {
          "base_uri": "https://localhost:8080/"
        },
        "id": "lhHB7eu494Mp",
        "outputId": "2c49dfb5-9ae4-4e8f-c97b-b707f5ed6b62"
      },
      "execution_count": null,
      "outputs": [
        {
          "output_type": "stream",
          "name": "stdout",
          "text": [
            "25\n",
            "30\n"
          ]
        }
      ]
    },
    {
      "cell_type": "markdown",
      "source": [
        "######Tratando uma exceção"
      ],
      "metadata": {
        "id": "NZaXS-lprTfy"
      }
    },
    {
      "cell_type": "code",
      "source": [
        "# O try/except ajuda a lidar com erros que não são de lógica ou sintaxe\n",
        "\n",
        "for d in denominadores:\n",
        "    try:\n",
        "        div = divisao(1, d)\n",
        "\n",
        "    except ZeroDivisionError:\n",
        "        div = 'infinito'\n",
        "\n",
        "    except TypeError:\n",
        "        div = f'1/{d}'\n",
        "\n",
        "    except:\n",
        "        div = 'erro desconhecido'\n",
        "\n",
        "    print(f'1/{d} = {div}')\n",
        "\n",
        "# o  'finally' vai executar de qualquer forma\n",
        "\n",
        "def teste(den):\n",
        "    try:\n",
        "        x = 1/den\n",
        "        return x\n",
        "    except:\n",
        "        return 'infinito'\n",
        "    finally:\n",
        "        print('Opa')"
      ],
      "metadata": {
        "id": "0zxDvjIAqlrI"
      },
      "execution_count": null,
      "outputs": []
    },
    {
      "cell_type": "markdown",
      "source": [
        "Levantando exceções"
      ],
      "metadata": {
        "id": "MeclyMMC3L5a"
      }
    },
    {
      "cell_type": "code",
      "source": [
        "# Quando estamos criando nossos próprios módulos, classes ou funções, muitas vezes vamos nos deparar com situações inválidas.\n",
        "# Imprimir uma mensagem de erro não é uma boa ideia, pois o programa pode estar rodando em um servidor, pode ter uma interface gráfica, etc.\n",
        "\n",
        "# Logo, o ideal seria lançarmos exceções para sinalizar essas situações.\n",
        "# Desta forma, se elas forem ignoradas, o programa irá parar, sinalizando para o programador que existe alguma situação que deveria ser tratada.\n",
        "# Adicionalmente, podemos criar nossa própria mensagem de erro, sinalizando para o programador que ele deveria fazer algo a respeito.\n",
        "\n",
        "salarios = []\n",
        "\n",
        "def cadastrar_salario(salario):\n",
        "    if salario <= 0:\n",
        "        raise Exception('Salário inválido! Salários devem ser positivos!')\n",
        "\n",
        "    salarios.append(salario)\n",
        "\n",
        "# identificação personalizada do exception\n",
        "\n",
        "class SalarioInvalido(Exception):\n",
        "    def __init__(self, message = 'Salários devem ser positivos!'):\n",
        "        self.message = message\n",
        "        super().__init__(self.message)"
      ],
      "metadata": {
        "id": "PylJpzuMrXFE"
      },
      "execution_count": null,
      "outputs": []
    },
    {
      "cell_type": "markdown",
      "source": [
        "######Arquivos"
      ],
      "metadata": {
        "id": "2Jxs8tUGBSZa"
      }
    },
    {
      "cell_type": "markdown",
      "source": [
        "CSV"
      ],
      "metadata": {
        "id": "lM7uf4cbmVSM"
      }
    },
    {
      "cell_type": "code",
      "source": [
        "# a função 'open' tem dois parâmetros: caminho do arquivos e o modo (read, write, append, update)\n",
        "# obs.: se alterar o arquivo mas não o fechar com o método close, as alterações não serão salvas.\n",
        "# obs.: o modo 'w' sempre irá criar um novo arquivo. Caso você use esse modo para abrir um arquivo que já existe,\n",
        "# o arquivo existente será substituído por um novo arquivo em branco, e seu conteúdo será perdido!\n",
        "\n",
        "arquivo = open('ola.txt', 'w') # cria um arquivo ola.txt\n",
        "arquivo.write('Olá mundo') # escreve \"Olá mundo\" no arquivo\n",
        "arquivo.close()\n",
        "\n",
        "# para ler:\n",
        "arquivo = open('ola.txt', 'r') #abre o arquivo já existente\n",
        "conteudo = arquivo.read() #lê o conteúdo do arquivo e o salva na variável\n",
        "print(conteudo)\n",
        "arquivo.close()\n",
        "\n",
        "# com o 'with open' ele fecha automaticamente o arquivo\n",
        "with open('ola.txt', 'r') as arquivo:\n",
        "    conteudo = arquivo.read()\n",
        "    print(conteudo.title())"
      ],
      "metadata": {
        "id": "Fy12lbSlB7wQ"
      },
      "execution_count": null,
      "outputs": []
    },
    {
      "cell_type": "code",
      "source": [
        "# usado csv, Comma-Separated Values\n",
        "\n",
        "import csv\n",
        "\n",
        "tabela = [['Aluno', 'Nota 1', 'Nota 2', 'Presenças'],\n",
        "          ['Luke', 7, 9, 15],\n",
        "          ['Han', 4, 7, 10],\n",
        "          ['Leia', 9, 9, 16]]\n",
        "\n",
        "# cria o arquivo CSV\n",
        "arquivo = open('alunos.csv', 'w')\n",
        "\n",
        "# definindo as regras do nosso CSV:\n",
        "# ele será escrito no arquivo apontado pela variável 'arquivo'\n",
        "# seus elementos serão delimitados (delimiter) pelo símbolo ';'\n",
        "# suas linhas serão encerradas (lineterminator) por uma quebra de linha\n",
        "escritor = csv.writer(arquivo, delimiter=';', lineterminator='\\n')\n",
        "\n",
        "# escreve uma lista de listas em formato CSV:\n",
        "escritor.writerows(tabela)\n",
        "\n",
        "# fecha e salva o arquivo\n",
        "arquivo.close()\n",
        "\n",
        "# para ler o csv:\n",
        "import csv\n",
        "\n",
        "arquivo = open('alunos.csv', 'r')\n",
        "\n",
        "planilha = csv.reader(arquivo, delimiter=';', lineterminator='\\n')\n",
        "\n",
        "for linha in planilha:\n",
        "    print(linha)\n",
        "\n",
        "arquivo.close()\n",
        "\n",
        "# isso não funciona:\n",
        "\n",
        "print(planilha)\n",
        "\n",
        "# isso sim:\n",
        "planilha = list(csv.reader(arquivo, delimiter=';', lineterminator='\\n'))\n",
        "\n",
        "print(planilha)"
      ],
      "metadata": {
        "id": "qdIUyS7DaFYD"
      },
      "execution_count": null,
      "outputs": []
    },
    {
      "cell_type": "markdown",
      "source": [
        "JSON"
      ],
      "metadata": {
        "id": "fxKjn2-pmXWP"
      }
    },
    {
      "cell_type": "code",
      "source": [
        "# JSON é uma sigla para JavaScript Object Notation.\n",
        "{\n",
        "    'escola':\"Let's Code\",\n",
        "    'cursos':[{'nome':'Python Pro', 'duracao':2},\n",
        "            {'nome':'Data Science', 'duracao':2},\n",
        "            {'nome':'Front-End', 'duracao':2}]\n",
        "}\n",
        "\n",
        "# O método loads recebe uma string contendo um JSON e retorna um dicionário:\n",
        "\n",
        "import json\n",
        "\n",
        "jogador = '{\"nome\":\"Mario\",\"pontuacao\":0}'\n",
        "\n",
        "dicionario = json.loads(jogador)\n",
        "\n",
        "print(dicionario['nome'])\n",
        "print(dicionario['pontuacao'])\n",
        "\n",
        "# Já o método dumps recebe um dicionário e retorna uma string pronta para ser salva ou enviada como JSON:\n",
        "\n",
        "import json\n",
        "\n",
        "jogador = dict()\n",
        "jogador['nome']  = 'Mario'\n",
        "jogador['pontuacao'] = 0\n",
        "\n",
        "string_json = json.dumps(jogador)\n",
        "\n",
        "print(string_json)\n",
        "\n",
        "# Obs.: O dumps possui um parâmetro opcional indent que recebe um número inteiro.\n",
        "# Isso fará com que a string gerada seja indentada, e o valor desse parâmetro determinará quantos espaços irão ao início de cada \"nível\""
      ],
      "metadata": {
        "id": "NdpyC2FJmYar"
      },
      "execution_count": null,
      "outputs": []
    }
  ]
}