{
  "nbformat": 4,
  "nbformat_minor": 0,
  "metadata": {
    "colab": {
      "provenance": []
    },
    "kernelspec": {
      "name": "python3",
      "display_name": "Python 3"
    },
    "language_info": {
      "name": "python"
    }
  },
  "cells": [
    {
      "cell_type": "markdown",
      "source": [
        "A POO (Programação Orientada a Objetos) é um paradigma de programação que organiza o código em torno de objetos que representam entidades do mundo real, promovendo modularidade, reutilização e manutenção eficiente do software."
      ],
      "metadata": {
        "id": "w4hLvHnaL4H3"
      }
    },
    {
      "cell_type": "markdown",
      "source": [
        "######Classes e objetos\n",
        "######*As classes são representações ideais das entidades envolvidas em nossos problemas. Elas irão definir um conjunto de características que as nossas entidades deverão ter e os seus respectivos comportamentos e habilidades. Os objetos são as instâncias da classe.*\n",
        "\n",
        "######*As informações que cada objeto possui são chamadas de atributos do objeto. As habilidades e comportamentos do objeto são chamadas de métodos, e são implementadas como funções dentro da classe. Os métodos sempre serão chamados a partir de um objeto. Um método é capaz de alterar o estado de um objeto, ou seja, modificar os valores dos atributos do objeto.*\n",
        "\n",
        "######*Princípios básicos: Encapsulamento (cada classe é responsável pelas suas próprias informações), Abstração (a complexidade da classe é \"oculta\" e a classe fornece uma interface fácil para interagir com outras classes), Herança (a capacidade de uma classe transmitir suas características para outra classe) e Polimorfismo (a capacidade de um objeto se comportar como se pertencesse a diferentes classes).*\n"
      ],
      "metadata": {
        "id": "KSFqSNiWNgQX"
      }
    },
    {
      "cell_type": "code",
      "execution_count": null,
      "metadata": {
        "id": "zDuYs0nGLx0H"
      },
      "outputs": [],
      "source": [
        "# Boa prática 1: Classe começa com letra maiúscula, objeto começa com letra minúscula.\n",
        "# Boa prática 2: No caso de classes, não é recomendável separar palavras por _ e sim usar o padrão Camel Case.\n",
        "\n",
        "class Jogador:\n",
        "    # o ' __init__ ' (construtor) faz parte do grupo de Métodos Mágicos, e tem como sintaxe o padrão dunder (double underscore).\n",
        "    def __init__(self, nome): # métodos são funções que representam ações que os objetos serão capazes de executar.\n",
        "        self.nome = nome\n",
        "        self.pontuacao = 0\n",
        "\n",
        "    def dizer_ola(self):\n",
        "        print(f'Olá, meu nome é {self.nome}.')"
      ]
    },
    {
      "cell_type": "code",
      "source": [
        "# Instanciando (criando objetos)\n",
        "\n",
        "player1 = Jogador('Mario') # Não é necessário passar o 'self'\n",
        "player2 = Jogador('Luigi')"
      ],
      "metadata": {
        "id": "9xhw3KtnUFhB"
      },
      "execution_count": null,
      "outputs": []
    },
    {
      "cell_type": "code",
      "source": [
        "# Para acessar atributos, a sintaxe é ' nome_do_objeto.nome_do_atributo ':\n",
        "\n",
        "player1.pontuacao = 5\n",
        "player2.pontuacao = 10\n",
        "\n",
        "print(f'Pontuação do {player1.nome}: {player1.pontuacao}')\n",
        "print(f'Pontuação do {player2.nome}: {player2.pontuacao}')"
      ],
      "metadata": {
        "colab": {
          "base_uri": "https://localhost:8080/"
        },
        "id": "c7ZLYj4gUlE-",
        "outputId": "f7592d22-93f4-4427-e730-a5a0903e8b18"
      },
      "execution_count": null,
      "outputs": [
        {
          "output_type": "stream",
          "name": "stdout",
          "text": [
            "Pontuação do Mario: 5\n",
            "Pontuação do Luigi: 10\n"
          ]
        }
      ]
    },
    {
      "cell_type": "code",
      "source": [
        "# Para invocar um método, a sintaxe é ' nome_do_objeto.nome_do_metodo(parametros) '\n",
        "player1.dizer_ola()\n",
        "player2.dizer_ola()"
      ],
      "metadata": {
        "colab": {
          "base_uri": "https://localhost:8080/"
        },
        "id": "W-6AZ7G3VIeu",
        "outputId": "f37b19ad-06f6-4050-f77c-d34f19a9ee58"
      },
      "execution_count": null,
      "outputs": [
        {
          "output_type": "stream",
          "name": "stdout",
          "text": [
            "Olá, meu nome é Mario.\n",
            "Olá, meu nome é Luigi.\n"
          ]
        }
      ]
    },
    {
      "cell_type": "markdown",
      "source": [
        "######Módulos e pacotes"
      ],
      "metadata": {
        "id": "nM4-fR3uWPvj"
      }
    },
    {
      "cell_type": "code",
      "source": [
        "# Importando um módulo:\n",
        "\n",
        "import math # dá para usar o ' as ': import math as matematica\n",
        "\n",
        "graus = float(input('Digite um ângulo: '))\n",
        "\n",
        "# Função \"radians\" do módulo math - converte graus para radianos\n",
        "radianos = math.radians(graus)\n",
        "\n",
        "# funções \"sin\" e \"cos\" do módulo math - retornam seno e cosseno de um ângulo (dado em radianos)\n",
        "seno = math.sin(radianos)\n",
        "cosseno = math.cos(radianos)\n",
        "\n",
        "print(seno, cosseno)\n",
        "\n",
        "# função \"sqrt\" do módulo math - raiz quadrada\n",
        "prova = math.sqrt(2)/2\n",
        "print(prova)"
      ],
      "metadata": {
        "id": "hEWWKOe5WSiT"
      },
      "execution_count": null,
      "outputs": []
    },
    {
      "cell_type": "code",
      "source": [
        "# O Python possui um gerenciador próprio de pacotes, chamado de pip.\n",
        "# ' pip install nome-do-pacote ' ou ' pip3 install nome-do-pacote ', em caso de mais de uma versão instalada\n",
        "\n",
        "# Um pacote não é apenas 1 arquivo contendo funções e/ou classes, mas uma pasta contendo vários módulos ou mesmo subpacotes.\n",
        "# Se é um pacote, a chamada de um módulo específico será assim:\n",
        "\n",
        "import matematica.operacoes\n",
        "\n",
        "s = matematica.operacoes.soma(1, 2)"
      ],
      "metadata": {
        "id": "6QgAyOJfZvYa"
      },
      "execution_count": null,
      "outputs": []
    },
    {
      "cell_type": "code",
      "source": [
        "# Existe uma variável global em todo projeto Python chamada __name__. Ela indica o namespace vinculado ao arquivo atual.\n",
        "# Se o arquivo atual é o programa sendo executado, o seu valor será __main__.\n",
        "\n",
        "# Exemplo: se um arquivo matematica.py não tivesse sido planejado para ser um módulo, e sim um script independente, ao importarmos ele em\n",
        "# outros arquivos, tudo o que está fora das funções (inputs, condicionais, prints...) será executado imediatamente. Porém, com uma pequena\n",
        "# modificação, ele pode cumprir ambos os papéis:\n",
        "\n",
        "if __name__ == '__main__':\n",
        "  # basta adicionar essa validação!\n",
        "  print('Este arquivo foi executado diretamente')"
      ],
      "metadata": {
        "id": "wPwgkWtCbTMb"
      },
      "execution_count": null,
      "outputs": []
    },
    {
      "cell_type": "markdown",
      "source": [
        "######Atributos privados e métodos de acesso"
      ],
      "metadata": {
        "id": "i1Z_XjeId0gh"
      }
    },
    {
      "cell_type": "code",
      "source": [
        "# Nos exemplos anteriores, o princípio do encapsulamento estava sendo violado, pois era possível acessar e manipular diretamente os atributos de qualquer objeto.\n",
        "\n",
        "# Exemplo:\n",
        "\n",
        "class Televisor:\n",
        "    def __init__(self, marca, modelo, volume, canal):\n",
        "        self.marca = marca\n",
        "        self.modelo = modelo\n",
        "        self.volume = volume\n",
        "        self.canal = canal\n",
        "    ...\n",
        "    def aumentar_volume(self):\n",
        "        if self.volume < 100:\n",
        "            self.volume += 1\n",
        "        else:\n",
        "            print('Volume já está no máximo!')\n",
        "    ...\n",
        "\n",
        "class ControleRemoto:\n",
        "    def __init__(self, tv):\n",
        "        self.tv = tv\n",
        "    ...\n",
        "    def aumentar_volume(self):\n",
        "        self.tv.volume += 1\n",
        "\n",
        "televisor = Televisor('Samsung', 'UHD55SMART', 98, 'HBO')\n",
        "controle = ControleRemoto(televisor)\n",
        "\n",
        "# Aumentando o volume via tv:\n",
        "televisor.aumentar_volume() # funciona, foi pra 99\n",
        "print(televisor.volume)\n",
        "televisor.aumentar_volume() # funciona, foi pra 100\n",
        "print(televisor.volume)\n",
        "televisor.aumentar_volume() # não funciona, fica em 100\n",
        "print(televisor.volume)\n",
        "\n",
        "# Aumentando via controle:\n",
        "controle.aumentar_volume() # funciona, foi pra 101\n",
        "print(televisor.volume)\n",
        "\n",
        "'''\n",
        "Ao projetar a classe Televisor, previmos uma regra: volume não deveria passar de 100.\n",
        "Quando acionamos o método de volume do próprio Televisor, ele faz a checagem para evitar um valor inválido.\n",
        "Porém, como o atributo é livremente acessível, outras classes podem alterá-lo sem passar pelo método.\n",
        "É o que ocorreu na classe ControleRemoto: o programador, por distração ou desconhecimento, alterou diretamente um\n",
        "atributo da classe Televisor dentro da classe ControleRemoto sem fazer qualquer tipo de verificação.\n",
        "Com isso, o ControleRemoto criou uma brecha para que tivéssemos objetos Televisor com volume superior a 100.\n",
        "\n",
        "Isso é conhecido como furar o encapsulamento da classe Televisor, e geralmente é ruim.\n",
        "'''"
      ],
      "metadata": {
        "id": "BQ_Jb56jd6A5"
      },
      "execution_count": null,
      "outputs": []
    },
    {
      "cell_type": "code",
      "source": [
        "# Na maioria das linguagens há 3 níveis de acesso. Eles tipicamente são:\n",
        "\n",
        "# Private (privado): apenas objetos da própria classe possuem acesso ao atributo.\n",
        "# Protected (protegido): apenas objetos da própria classe ou de classes herdeiras possuem acesso ao atributo.\n",
        "# Public (público): os atributos podem ser acessados livremente em qualquer ponto do código.\n",
        "\n",
        "# Em Python:\n",
        "self.atributoA = 'teste público'    # sem underline: atributo público\n",
        "self._atributoB = 'teste protegido' # 1 underline: atributo protegido\n",
        "self.__atributoC = 'teste privado'  # 2 underlines: atributo privado\n",
        "\n",
        "# Utilizando esses conceitos no exemplo anterior:\n",
        "class Televisor:\n",
        "    def __init__(self, marca, modelo, volume, canal):\n",
        "        self.marca = marca     # público\n",
        "        self._modelo = modelo  # protegido\n",
        "        self.__volume = volume # privado\n",
        "        self.canal = canal\n",
        "\n",
        "televisor = Televisor('Samsung', 'UHD55SMART', 98, 'HBO')\n",
        "print(televisor.marca)\n",
        "print(televisor._modelo)\n",
        "print(televisor.__volume) # essa linha vai provocar erro!"
      ],
      "metadata": {
        "id": "9PBwSiYkf10G"
      },
      "execution_count": null,
      "outputs": []
    },
    {
      "cell_type": "code",
      "source": [
        "# Para acessar e/ou modificar atributos e, ao mesmo tempo, respeitar as regras de negócio, existem os getters e setters:\n",
        "\n",
        "class Televisor:\n",
        "    # Note que podemos usar get/set até mesmo no construtor!\n",
        "    # Isso vai deixar nossa classe mais segura, evitando que objetos sejam CRIADOS com valores indevidos:\n",
        "    def __init__(self, marca, modelo, volume, canal, lista_canais):\n",
        "        self.set_lista_canais(lista_canais)\n",
        "        self.set_marca(marca)\n",
        "        self.set_modelo(modelo)\n",
        "        self.set_volume(volume)\n",
        "        self.set_canal(canal)\n",
        "\n",
        "    def get_marca(self):\n",
        "        return self.__marca\n",
        "\n",
        "    def set_marca(self, marca):\n",
        "        self.__marca = marca\n",
        "\n",
        "    def get_modelo(self):\n",
        "        return self.__modelo\n",
        "\n",
        "    def set_modelo(self, modelo):\n",
        "        self.__modelo = modelo\n",
        "\n",
        "    def get_volume(self):\n",
        "        return self.__volume\n",
        "\n",
        "    def set_volume(self, volume):\n",
        "        if volume > 100:\n",
        "            self.__volume = 100\n",
        "        elif volume < 0:\n",
        "            self.__volume = 0\n",
        "        else:\n",
        "            self.__volume = volume\n",
        "\n",
        "    def get_canal(self):\n",
        "        return self.__canal\n",
        "\n",
        "    def set_canal(self, canal):\n",
        "        if canal in self.get_lista_canais(): # podemos fazer get de uma atributo mesmo dentro da classe!\n",
        "            self.__canal = canal\n",
        "        elif len(self.get_lista_canais()) > 0:\n",
        "            self.__canal = self.get_lista_canais()[0]\n",
        "        else:\n",
        "            self.__canal = None\n",
        "\n",
        "    def get_lista_canais(self):\n",
        "        return self.__lista_canais\n",
        "\n",
        "    def set_lista_canais(self, lista):\n",
        "        if type(lista) == list:\n",
        "            self.__lista_canais = lista\n",
        "        else:\n",
        "            self.__lista_canais = []\n",
        "\n",
        "# criando um objeto para testar:\n",
        "televisor = Televisor('Samsung', 'UHD55SMART', 98, 'HBO', ['Globo', 'SBT', 'Manchete'])\n",
        "\n",
        "# note que tentamos colocar lá em cima um canal inexistente (HBO)\n",
        "# porém, o construtor usou os setters para definir os atributos\n",
        "# o setter de canal prevê o seguinte comportamento: se o canal não está na lista, pega o primeiro da lista\n",
        "# logo, qual será o canal sintonizado no momento?\n",
        "\n",
        "print(televisor.get_canal())"
      ],
      "metadata": {
        "colab": {
          "base_uri": "https://localhost:8080/"
        },
        "id": "mFAs2bz0CaCx",
        "outputId": "28942c35-a529-4d2b-fc94-43424a3e2673"
      },
      "execution_count": null,
      "outputs": [
        {
          "output_type": "stream",
          "name": "stdout",
          "text": [
            "Globo\n"
          ]
        }
      ]
    },
    {
      "cell_type": "code",
      "source": [
        "# Getters e setters mais pythonicos:\n",
        "# Apesar dos benefícios desses métodos, a sintaxe ficou maiks carregada:\n",
        "# tv.volume = 10 virou tv.set_volume(10)\n",
        "# vol = tv.volume virou vol = tv.get_volume()\n",
        "\n",
        "# Primeira forma de resolver isso:  @property + @atributo.setter\n",
        "# As palavras  precedidas por @ são os decorators e servem para sinalizar para o Python que um certo método possui algumas propriedades especiais.\n",
        "# O decorator @property sinaliza para o Python que o método abaixo será o getter de algum atributo.\n",
        "# Já o @atributo.setter indica que o método abaixo servirá como setter para o atributo chamado \"atributo\".\n",
        "\n",
        "class Televisor:\n",
        "    def __init__(self, volume):\n",
        "        # IMPORTANTE:\n",
        "        # não existe atributo volume!\n",
        "        # aqui estamos implicitamente chamando o setter definido lá embaixo!\n",
        "        # é dentro do próprio setter que o atributo __volume será criado ao receber um valor pela primeira vez\n",
        "        self.volume = volume\n",
        "\n",
        "    # getter para volume\n",
        "    # note que utilizamos o nome que gostaríamos que aparecesse como atributo para os outros programadores (volume)\n",
        "    @property\n",
        "    def volume(self):\n",
        "        return self.__volume\n",
        "\n",
        "    # setter para volume\n",
        "    # note que utilizamos o nome que gostaríamos que aparecesse como atributo para os outros programadores\n",
        "    @volume.setter\n",
        "    def volume(self, valor):\n",
        "        if valor > 100:\n",
        "            self.__volume = 100\n",
        "        elif valor < 0:\n",
        "            self.__volume = 0\n",
        "        else:\n",
        "            self.__volume = valor\n",
        "\n",
        "tv = Televisor(102) # tentando passar um volume inválido...\n",
        "print(tv.volume) # note qual valor foi parar lá...\n",
        "\n",
        "tv.volume = 10 # passando um volume \"bem comportado\"\n",
        "print(tv.volume) #... e funciona!\n",
        "\n",
        "tv.volume = -5 # outro volume estranho...\n",
        "print(tv.volume) # e o setter nos salvou de novo\n",
        "\n",
        "\n",
        "tv.volume += 1\n",
        "\n",
        "tv.volume = tv.volume + 1\n",
        "print(tv.volume)\n",
        "\n",
        "# Segunda forma de resolver isso: função property\n",
        "\n",
        "class Televisor:\n",
        "    def __init__(self, volume):\n",
        "        self.volume = volume\n",
        "\n",
        "    # Note o __ no início. Esses métodos são privados. Isso é opcional. Boa prática.\n",
        "    def __get_volume(self):\n",
        "        return self.__volume\n",
        "\n",
        "    def __set_volume(self, valor):\n",
        "        if valor > 100:\n",
        "            self.__volume = 100\n",
        "        elif valor < 0:\n",
        "            self.__volume = 0\n",
        "        else:\n",
        "            self.__volume = valor\n",
        "\n",
        "    # Tendo o getter e o setter, criamos a propriedade:\n",
        "    volume = property(__get_volume, __set_volume)\n",
        "    # Note que passamos as funções SEM parênteses\n",
        "    # Não estamos chamando a função para passar seus retornos. Estamos passando as funções em si."
      ],
      "metadata": {
        "id": "BtxtsBzXEn_q"
      },
      "execution_count": null,
      "outputs": []
    },
    {
      "cell_type": "markdown",
      "source": [
        "######Métodos mágicos"
      ],
      "metadata": {
        "id": "MRazvo3yIgXC"
      }
    },
    {
      "cell_type": "code",
      "source": [
        "# Esses métodos (dunder methods) também não foram feitos para serem chamados pelo nome.\n",
        "# Ao invés disso, eles são chamados automaticamente pelo Python em situações específicas.\n",
        "\n",
        "# O processo de instanciação de objetos, por exemplo, envolve dois métodos mágicos diferentes: o __new__ e o __init__.\n",
        "# O método __new__ é executado primeiro, e ele cria um objeto vazio vinculado à classe desejada.\n",
        "# Em seguida, esse objeto é passado para o __init__ junto com os parâmetros utilizados na instanciação do objeto para que\n",
        "# esse método faça a inicialização dos atributos.\n",
        "\n",
        "# Para permitir a impressão direta de objetos, há o método ' __str__ '\n",
        "\n",
        "class Fracao:\n",
        "\n",
        "    def __init__(self, num, den):\n",
        "        self.num = num\n",
        "        self.den = den\n",
        "\n",
        "    def soma(self, fracao2):\n",
        "        # primeiro multiplicamos os denominadores:\n",
        "        denominador = self.den * fracao2.den\n",
        "        # agora o produto cruzado entre numeradores e denominadores:\n",
        "        numerador = self.num * fracao2.den + self.den * fracao2.num\n",
        "        # montamos a nova fração:\n",
        "        resultado = Fracao(numerador, denominador)\n",
        "        return resultado\n",
        "\n",
        "    def __str__(self):\n",
        "        return f'{self.num}/{self.den}'\n",
        "\n",
        "\n",
        "# Qualquer operação aritmética padrão do Python pode ser implementada através de um método mágico seguindo o seguinte padrão:\n",
        "\n",
        "# O nome do método será entre dois pares de underscores (sintaxe dunder).\n",
        "# O método receberá 2 parâmetros: self (representando o objeto à esquerda do operador) e other (representando o objeto à direita).\n",
        "# O método irá retornar o resultado da operação.\n",
        "\n",
        "# Exemplo:\n",
        "\n",
        "f1.__add__(f2)\n",
        "\n",
        "'''\n",
        "add: soma (+)\n",
        "sub: subtração (-)\n",
        "mul: multiplicação (*)\n",
        "truediv: divisão real (/)\n",
        "floordiv: divisão inteira (//)\n",
        "mod: resto da divisão (%)\n",
        "pow: potência (**)\n",
        "'''\n",
        "\n",
        "class Fracao:\n",
        "\n",
        "    def __init__(self, num, den):\n",
        "        self.num = num\n",
        "        self.den = den\n",
        "\n",
        "    def __add__(self, other):\n",
        "        # primeiro multiplicamos os denominadores:\n",
        "        denominador = self.den * other.den\n",
        "        # agora o produto cruzado entre numeradores e denominadores:\n",
        "        numerador = self.num * other.den + self.den * other.num\n",
        "        # montamos a nova fração:\n",
        "        resultado = Fracao(numerador, denominador)\n",
        "        return resultado\n",
        "\n",
        "    def __str__(self):\n",
        "        return f'{self.num}/{self.den}'\n",
        "\n",
        "###\n",
        "\n",
        "meio = Fracao(1, 2)\n",
        "terco = Fracao(1, 3)\n",
        "meio_mais_terco = meio + terco\n",
        "print(meio_mais_terco)"
      ],
      "metadata": {
        "id": "NLXJPZvlIi0A"
      },
      "execution_count": null,
      "outputs": []
    },
    {
      "cell_type": "code",
      "source": [
        "# Métodos de comparação\n",
        "\n",
        "'''\n",
        "gt - greater than/maior que (>)\n",
        "ge - greater or equal/maior ou igual (>=)\n",
        "lt - less than/menor que (<)\n",
        "le - less or equal/menor ou igual (<=)\n",
        "eq - equal/igual (==)\n",
        "ne - not equal/diferente (!=)\n",
        "'''\n",
        "\n",
        "class Fracao:\n",
        "\n",
        "    def __init__(self, num, den):\n",
        "        self.num = num\n",
        "        self.den = den\n",
        "\n",
        "    def __add__(self, other):\n",
        "        # primeiro multiplicamos os denominadores:\n",
        "        denominador = self.den * other.den\n",
        "        # agora o produto cruzado entre numeradores e denominadores:\n",
        "        numerador = self.num * other.den + self.den * other.num\n",
        "        # montamos a nova fração:\n",
        "        resultado = Fracao(numerador, denominador)\n",
        "        return resultado\n",
        "\n",
        "    def __gt__(self, other):\n",
        "        # uma lógica possível para comparar frações:\n",
        "        # realizar a divisão delas e comparar o resultado\n",
        "        div1 = self.num/self.den\n",
        "        div2 = other.num/other.den\n",
        "        return div1 > div2 # True/False\n",
        "\n",
        "    def __str__(self):\n",
        "        return f'{self.num}/{self.den}'\n",
        "\n",
        "meio = Fracao(1, 2)\n",
        "terco = Fracao(1, 3)\n",
        "meio_mais_terco = meio + terco\n",
        "print(meio_mais_terco)\n",
        "\n",
        "print(f'{meio} > {terco}: {meio > terco}')\n",
        "print(f'{terco} > {meio}: {terco > meio}')\n",
        "\n",
        "print(f'{meio} > {meio_mais_terco}: {meio > meio_mais_terco}')\n",
        "print(f'{terco} > {meio_mais_terco}: {terco > meio_mais_terco}')\n",
        "\n",
        "print(f'{meio_mais_terco} > {terco}: {meio_mais_terco > terco}')\n",
        "print(f'{meio_mais_terco} > {meio}: {meio_mais_terco > meio}')\n",
        "\n",
        "if meio_mais_terco > meio and meio_mais_terco > terco:\n",
        "    print('A soma das frações é maior do que as frações')\n",
        "else:\n",
        "    print('Quebramos a matemática?')"
      ],
      "metadata": {
        "colab": {
          "base_uri": "https://localhost:8080/"
        },
        "id": "hprw_KBcgg6g",
        "outputId": "b031e304-e9cb-46d5-9614-cd28c1ccce82"
      },
      "execution_count": null,
      "outputs": [
        {
          "output_type": "stream",
          "name": "stdout",
          "text": [
            "5/6\n",
            "1/2 > 1/3: True\n",
            "1/3 > 1/2: False\n",
            "1/2 > 5/6: False\n",
            "1/3 > 5/6: False\n",
            "5/6 > 1/3: True\n",
            "5/6 > 1/2: True\n",
            "A soma das frações é maior do que as frações\n"
          ]
        }
      ]
    },
    {
      "cell_type": "markdown",
      "source": [
        "######Atributos e métodos estáticos"
      ],
      "metadata": {
        "id": "GOoylsI2jTv1"
      }
    },
    {
      "cell_type": "code",
      "source": [
        "# Métodos estáticos existem para executar funcionalidades relacionadas à classe como um todo, sem depender de uma instância específica.\n",
        "\n",
        "class Aluno:\n",
        "\n",
        "    total_matriculados = 0  # atributo estático / atributo de classe / variável de classe.\n",
        "\n",
        "    def __init__(self, nome, curso):\n",
        "        self.nome = nome\n",
        "        self.curso = curso\n",
        "\n",
        "        Aluno.total_matriculados += 1\n",
        "\n",
        "        self.matricula = Aluno.total_matriculados\n",
        "\n",
        "# É  possível acessar o valor do atributo a partir de objetos da classe também."
      ],
      "metadata": {
        "id": "gWaXP86sjVtW"
      },
      "execution_count": null,
      "outputs": []
    },
    {
      "cell_type": "code",
      "source": [
        "# Métodos de classes:  criar métodos que recebam a própria classe como parâmetro.\n",
        "# Assim poderemos alterar o estado da classe (atualizar uma variável de classe, por exemplo) sem utilizar o nome da classe diretamente.\n",
        "# Decorator utilizado: @classmethod\n",
        "\n",
        "class Aluno:\n",
        "\n",
        "    total_matriculados = 0\n",
        "\n",
        "    def __init__(self, nome, curso):\n",
        "        self.nome = nome\n",
        "        self.curso = curso\n",
        "\n",
        "        self.incrementa_matriculados() # será passado como parâmetro a CLASSE de self\n",
        "\n",
        "        self.matricula = Aluno.total_matriculados\n",
        "\n",
        "    @classmethod\n",
        "    def incrementa_matriculados(cls):\n",
        "        cls.total_matriculados += 1 # equivale a: Aluno.total_matriculados += 1\n",
        "\n",
        "    @classmethod\n",
        "    def visualizar_matriculados(cls):\n",
        "        return cls.total_matriculados\n",
        "\n",
        "print(Aluno.visualizar_matriculados())\n",
        "aluno1 = Aluno('Rey', 'Data Science')\n",
        "aluno2 = Aluno('Finn', 'Data Science')\n",
        "aluno3 = Aluno('Poe', 'Data Science')\n",
        "aluno4 = Aluno('Kylo', 'Web Full Stack')\n",
        "print(Aluno.visualizar_matriculados())\n",
        "print(aluno3.visualizar_matriculados()) # mesmo resultado da linha anterior!"
      ],
      "metadata": {
        "colab": {
          "base_uri": "https://localhost:8080/"
        },
        "id": "U3c9lfSqllvs",
        "outputId": "e89c7d2b-c9ff-4460-a8b8-8a06c18864f0"
      },
      "execution_count": null,
      "outputs": [
        {
          "output_type": "stream",
          "name": "stdout",
          "text": [
            "0\n",
            "4\n",
            "4\n"
          ]
        }
      ]
    },
    {
      "cell_type": "code",
      "source": [
        "# Métodos estáticos: Métodos estáticos em Python, assim como métodos de classe, não servem para alterar o estado de um objeto em particular.\n",
        "# Eles não possuem self. Porém, além de não possuir self eles também não possuem cls. Ele recebe o decorator @staticmethod.\n",
        "\n",
        "# Um método estático não deve afetar o estado de um objeto, tampouco da classe.\n",
        "# Ele poderia tranquilamente ser removido de dentro da classe e implementado como uma função \"avulsa\" e seu funcionamento não seria prejudicado.\n",
        "\n",
        "# Neste caso, por que eles existem? A ideia está relacionada à noção de namespace:\n",
        "# implementamos um método estático quando temos uma função que está relacionada ao assunto de nossa classe,\n",
        "# e por conta disso gostaríamos de \"agrupá-la\" com a classe e ter seu nome vinculado ao nome da própria classe."
      ],
      "metadata": {
        "id": "nUpGp7NzqAep"
      },
      "execution_count": null,
      "outputs": []
    }
  ]
}